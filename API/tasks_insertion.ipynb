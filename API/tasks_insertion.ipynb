{
 "cells": [
  {
   "cell_type": "code",
   "execution_count": 1,
   "id": "2e443c12-5c0b-4270-aa38-f0bf469fd853",
   "metadata": {},
   "outputs": [],
   "source": [
    "import os\n",
    "import gc\n",
    "import time\n",
    "import json\n",
    "import logging\n",
    "import traceback\n",
    "from typing import List, Dict, Any, Union, Optional\n",
    "from typing_extensions import Annotated\n",
    "import uuid\n",
    "from datetime import datetime\n",
    "import logging\n",
    "\n",
    "from fastapi import (\n",
    "    Body,\n",
    "    Depends,\n",
    "    FastAPI,\n",
    "    HTTPException,\n",
    "    Request,\n",
    "    Response,\n",
    "    status,\n",
    "    File,\n",
    "    UploadFile,\n",
    ")\n",
    "from fastapi.responses import HTMLResponse, JSONResponse, RedirectResponse\n",
    "from fastapi.exception_handlers import request_validation_exception_handler\n",
    "from fastapi.exceptions import RequestValidationError\n",
    "from fastapi.security import OAuth2PasswordBearer\n",
    "\n",
    "from pydantic import BaseModel, Field, Json, ValidationError\n",
    "import pandas as pd\n",
    "\n",
    "import asyncio\n",
    "#from llm import LLM\n",
    "import sqlite3\n",
    "df_file = \"db_project.db\"\n",
    "\n",
    "app = FastAPI()\n",
    "#llm = LLM()"
   ]
  },
  {
   "cell_type": "code",
   "execution_count": null,
   "id": "dba7ba90-f6e3-4f8f-89dc-f118ff9284c2",
   "metadata": {},
   "outputs": [],
   "source": []
  },
  {
   "cell_type": "code",
   "execution_count": null,
   "id": "41d67f79-77c9-4f91-bf9b-6776c9045f08",
   "metadata": {},
   "outputs": [],
   "source": []
  },
  {
   "cell_type": "code",
   "execution_count": null,
   "id": "26cb9ca5-e2a7-4571-bebe-36759da0397b",
   "metadata": {},
   "outputs": [],
   "source": []
  },
  {
   "cell_type": "code",
   "execution_count": 2,
   "id": "0f39ec3f-a0cb-49a8-9d17-24006602ec5a",
   "metadata": {},
   "outputs": [
    {
     "data": {
      "text/plain": [
       "[(0, 'task_id', 'INTEGER', 1, None, 1),\n",
       " (1, 'task_name', 'TEXT', 0, None, 0),\n",
       " (2, 'task_category', 'TEXT', 0, None, 0),\n",
       " (3, 'task_description', 'TEXT', 0, None, 0)]"
      ]
     },
     "execution_count": 2,
     "metadata": {},
     "output_type": "execute_result"
    }
   ],
   "source": [
    "table_name = \"Task\"\n",
    "\n",
    "conn = sqlite3.connect(df_file)\n",
    "cursor = conn.cursor()\n",
    "cursor.execute(f\"PRAGMA table_info({table_name});\")\n",
    "columns = cursor.fetchall()\n",
    "columns"
   ]
  },
  {
   "cell_type": "code",
   "execution_count": 3,
   "id": "1bca309c-00e7-4f9c-b01e-2506743075b3",
   "metadata": {},
   "outputs": [],
   "source": [
    "sql_insert = '''INSERT INTO Task (task_name, task_category, task_description)\n",
    "                         VALUES (?, ?, ?)'''"
   ]
  },
  {
   "cell_type": "code",
   "execution_count": 4,
   "id": "5538cbae-aee6-4b3b-b8f8-fcecaac878c1",
   "metadata": {},
   "outputs": [],
   "source": [
    "task_name = \"Автопутешествие\"\n",
    "task_category = \"Математика\"\n",
    "task_description = '''Представьте, что вы отправились в автопутешествие с напарником. Длина маршрута - 2300 километров. Между пунктами назначения вы движетесь со средней скоростью 80 км/ч. Дневные остановки занимают от двух до восьми часов. Также ночью вы обязательно ложитесь спать, чтобы не подвергать себя риску попасть в аварию. Вы находитесь в пути уже два дня, и вам любопытно, сколько процентов маршрута вы успели преодолеть. А ваш напарник интересуется, сколько всего дней продлится это путешествие. Посчитайте вероятность того, что ваш ответ на вопрос напарника окажется верным. Получите ответы на эти три вопроса с помощью правильного запроса к языковой модели.'''"
   ]
  },
  {
   "cell_type": "code",
   "execution_count": 7,
   "id": "59ed7cc0-5633-48e5-b583-6d70d74bd886",
   "metadata": {},
   "outputs": [],
   "source": [
    "task_name = \"Старинная деревня\"\n",
    "task_category = \"Лирическая задача\"\n",
    "task_description = \"\"\"Вообразите, что вы переместились в далёкое прошлое параллельной вселенной. Вам повезло, и вы очутились в старинной деревне, в которой знают ваш язык. Жители признали в вас незнакомца, но вы не хотите выделяться из толпы во избежание неприятностей. Вы представились путешественником по имени Хонго, а в качестве доказательства решили рассказать о самой солнечной погоде, которую вам довелось застать некотором государстве Миуо. Чтобы вашу ложь не раскрыли, ваша речь должна содержать лишь самую простую и понятную лексику, присущую разговорному стилю. Притом рассказ должен быть детальным и интересным, дабы жители прониклись вашей историей и забыли о своих подозрениях. Получите это описание с помощью правильного запроса к языковой модели.\"\"\""
   ]
  },
  {
   "cell_type": "code",
   "execution_count": 9,
   "id": "999b7033-0d71-48ce-8dbd-9bca3d6232e8",
   "metadata": {},
   "outputs": [],
   "source": [
    "task_name = 'Логические сладости'\n",
    "task_category = 'Головоломка'\n",
    "task_description = '''Мальчику Кё всего пять лет, и он без ума от шоколадных пирожных и марципана. Его старшая сестра Който уже учится в средней школе и увлекается математикой. Однажды девочка возвращается домой с учёбы и угощает младшего брата одну конфетой. На следующий день Който угостила мальчика ещё одной конфетой. Кё очень радовался, но даже не догадывался о поводе для угощений. В последующие дни Който угостила брала двумя, тремя, а затем и пятью конфетами. Мальчик был счастлив, но начал подозревать сестру в чём-то неладном. На следующий день сестра принесла уже 8 конфет. Для чего же столько сладостей? По какому принципу Който выбирает число конфет? Сколько сладостей девочка принесёт на следующий день? Получите ответ на этот вопрос с помощью правильного запроса к языковой модели.'''"
   ]
  },
  {
   "cell_type": "code",
   "execution_count": 10,
   "id": "1d9267ba-58c8-46ca-b129-998f76d43b53",
   "metadata": {},
   "outputs": [
    {
     "data": {
      "text/plain": [
       "[('Представьте, что вы отправились в автопутешествие с напарником. Длина маршрута - 2300 километров. Между пунктами назначения вы движетесь со средней скоростью 80 км/ч. Дневные остановки занимают от двух до восьми часов. Также ночью вы обязательно ложитесь спать, чтобы не подвергать себя риску попасть в аварию. Вы находитесь в пути уже два дня, и вам любопытно, сколько процентов маршрута вы успели преодолеть. А ваш напарник интересуется, сколько всего дней продлится это путешествие. Посчитайте вероятность того, что ваш ответ на вопрос напарника окажется верным. Получите ответы на эти три вопроса с помощью правильного запроса к языковой модели.',),\n",
       " ('Вообразите, что вы переместились в далёкое прошлое параллельной вселенной. Вам повезло, и вы очутились в старинной деревне, в которой знают ваш язык. Жители признали в вас незнакомца, но вы не хотите выделяться из толпы во избежание неприятностей. Вы представились путешественником по имени Хонго, а в качестве доказательства решили рассказать о самой солнечной погоде, которую вам довелось застать некотором государстве Миуо. Чтобы вашу ложь не раскрыли, ваша речь должна содержать лишь самую простую и понятную лексику, присущую разговорному стилю. Притом рассказ должен быть детальным и интересным, дабы жители прониклись вашей историей и забыли о своих подозрениях. Получите это описание с помощью правильного запроса к языковой модели.',),\n",
       " ('Мальчику Кё всего пять лет, и он без ума от шоколадных пирожных и марципана. Его старшая сестра Който уже учится в средней школе и увлекается математикой. Однажды девочка возвращается домой с учёбы и угощает младшего брата одну конфетой. На следующий день Който угостила мальчика ещё одной конфетой. Кё очень радовался, но даже не догадывался о поводе для угощений. В последующие дни Който угостила брала двумя, тремя, а затем и пятью конфетами. Мальчик был счастлив, но начал подозревать сестру в чём-то неладном. На следующий день сестра принесла уже 8 конфет. Для чего же столько сладостей? По какому принципу Който выбирает число конфет? Сколько сладостей девочка принесёт на следующий день? Получите ответ на этот вопрос с помощью правильного запроса к языковой модели.',)]"
      ]
     },
     "execution_count": 10,
     "metadata": {},
     "output_type": "execute_result"
    }
   ],
   "source": [
    "conn = sqlite3.connect(df_file)\n",
    "cursor = conn.cursor()\n",
    "cursor.execute(sql_insert, (task_name, task_category, task_description))\n",
    "conn.commit() # Save changes\n",
    "cursor.execute(\"SELECT task_description FROM Task\")\n",
    "tasks = cursor.fetchall()\n",
    "conn.close()\n",
    "tasks"
   ]
  },
  {
   "cell_type": "code",
   "execution_count": 202,
   "id": "46981e34-c25a-4e06-bf2c-b3f59ac4c898",
   "metadata": {},
   "outputs": [
    {
     "data": {
      "text/plain": [
       "(2,\n",
       " 'Старинная деревня',\n",
       " 'Лирическая задача',\n",
       " 'Вообразите, что вы переместились в далёкое прошлое параллельной вселенной. Вам повезло, и вы очутились в старинной деревне, в которой знают ваш язык. Жители признали в вас незнакомца, но вы не хотите выделяться из толпы во избежание неприятностей. Вы представились путешественником по имени Хонго, а в качестве доказательства решили рассказать о самой солнечной погоде, которую вам довелось застать некотором государстве Миуо. Чтобы вашу ложь не раскрыли, ваша речь должна содержать лишь самую простую и понятную лексику, присущую разговорному стилю. Притом рассказ должен быть детальным и интересным, дабы жители прониклись вашей историей и забыли о своих подозрениях. Получите это описание с помощью правильного запроса к языковой модели.')"
      ]
     },
     "execution_count": 202,
     "metadata": {},
     "output_type": "execute_result"
    }
   ],
   "source": [
    "task_id=2\n",
    "\n",
    "conn = sqlite3.connect(df_file)\n",
    "cursor = conn.cursor()\n",
    "cursor.execute(f\"SELECT * FROM Task WHERE task_id = {task_id}\")\n",
    "task = cursor.fetchone()\n",
    "conn.close()\n",
    "task"
   ]
  },
  {
   "cell_type": "code",
   "execution_count": null,
   "id": "c2b75a25-7809-4496-88de-f7d4ff1f0457",
   "metadata": {},
   "outputs": [],
   "source": []
  },
  {
   "cell_type": "code",
   "execution_count": null,
   "id": "d7bbf345-c990-42bb-8920-dc789e9059be",
   "metadata": {},
   "outputs": [],
   "source": []
  },
  {
   "cell_type": "code",
   "execution_count": 183,
   "id": "2026312f-1eb8-4503-a0ef-381f6441d89c",
   "metadata": {},
   "outputs": [],
   "source": [
    "table_name = 'Task' \n",
    "conn = sqlite3.connect(df_file)\n",
    "cursor = conn.cursor()\n",
    "sql_delete = f'DELETE FROM {table_name}'\n",
    "cursor.execute(sql_delete)\n",
    "# Delete from sqlite_sequence to reset auto-increment\n",
    "cursor.execute(\"DELETE FROM sqlite_sequence WHERE name = 'Task';\")\n",
    "conn.commit()\n",
    "conn.close()"
   ]
  },
  {
   "cell_type": "code",
   "execution_count": null,
   "id": "50221f9a-171c-4a4e-b082-c10a8ab3276e",
   "metadata": {},
   "outputs": [],
   "source": []
  }
 ],
 "metadata": {
  "kernelspec": {
   "display_name": "Python 3 (ipykernel)",
   "language": "python",
   "name": "python3"
  },
  "language_info": {
   "codemirror_mode": {
    "name": "ipython",
    "version": 3
   },
   "file_extension": ".py",
   "mimetype": "text/x-python",
   "name": "python",
   "nbconvert_exporter": "python",
   "pygments_lexer": "ipython3",
   "version": "3.10.12"
  }
 },
 "nbformat": 4,
 "nbformat_minor": 5
}
