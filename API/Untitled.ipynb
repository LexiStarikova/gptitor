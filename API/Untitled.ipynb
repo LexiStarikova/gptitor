{
 "cells": [
  {
   "cell_type": "code",
   "execution_count": 1,
   "id": "3db5d15d-ba22-46af-a501-62eb928284ab",
   "metadata": {},
   "outputs": [],
   "source": [
    "import sqlite3\n",
    "import json\n",
    "db_file = \"./gptitor.db\""
   ]
  },
  {
   "cell_type": "code",
   "execution_count": 50,
   "id": "ae044a7a-8c4b-4bd1-92b2-3a3eb9720ff3",
   "metadata": {},
   "outputs": [],
   "source": [
    "user_id=1"
   ]
  },
  {
   "cell_type": "code",
   "execution_count": 124,
   "id": "b2720880-746e-40da-a488-dc3c00c0c6c4",
   "metadata": {},
   "outputs": [],
   "source": [
    "select_query = '''\n",
    "    SELECT round(AVG(json_extract(f.metrics, '$.criterion_1')), 1) AS avg_criterion_1, \n",
    "        round(AVG(json_extract(f.metrics, '$.criterion_2')), 1) AS avg_criterion_2,\n",
    "        round(AVG(json_extract(f.metrics, '$.criterion_3')), 1) AS avg_criterion_3,\n",
    "        round(AVG(json_extract(f.metrics, '$.criterion_4')), 1) AS avg_criterion_4\n",
    "    FROM \n",
    "        messages m\n",
    "    JOIN \n",
    "        conversations c ON m.conversation_id = c.conversation_id\n",
    "    JOIN \n",
    "        feedback f ON m.feedback_id = f.feedback_id\n",
    "    WHERE \n",
    "        c.user_id = ?\n",
    "        AND m.message_class = 'Request';\n",
    "    '''"
   ]
  },
  {
   "cell_type": "code",
   "execution_count": 125,
   "id": "3f9874fa-b791-40b7-8774-6490d54a98eb",
   "metadata": {},
   "outputs": [],
   "source": [
    "conn = sqlite3.connect(db_file)\n",
    "cursor = conn.cursor()\n",
    "\n",
    "cursor.execute(select_query, (user_id,))\n",
    "data = cursor.fetchone()\n",
    "\n",
    "conn.close()"
   ]
  },
  {
   "cell_type": "code",
   "execution_count": 126,
   "id": "0a134e16-f128-4bad-adc1-eb6520fb7bbd",
   "metadata": {},
   "outputs": [
    {
     "data": {
      "text/plain": [
       "(None, None, None, None)"
      ]
     },
     "execution_count": 126,
     "metadata": {},
     "output_type": "execute_result"
    }
   ],
   "source": [
    "data"
   ]
  },
  {
   "cell_type": "code",
   "execution_count": 104,
   "id": "e3c92f44-6dd4-4905-96f1-472332d87ee5",
   "metadata": {},
   "outputs": [],
   "source": [
    "from pydantic import BaseModel, Field\n",
    "from typing import Optional, Dict, Any, List\n",
    "from datetime import datetime\n",
    "\n",
    "class Metrics(BaseModel):\n",
    "    metrics: Dict[str, Any] = Field(\n",
    "        default={\n",
    "            \"criterion_1\": 0.0,\n",
    "            \"criterion_2\": 0.0,\n",
    "            \"criterion_3\": 0.0,\n",
    "            \"criterion_4\": 0.0\n",
    "        },\n",
    "        examples=[{\n",
    "            \"criterion_1\": 5,\n",
    "            \"criterion_2\": 4.5,\n",
    "            \"criterion_3\": 3.2,\n",
    "            \"criterion_4\": 0.0\n",
    "        }]\n",
    "    )"
   ]
  },
  {
   "cell_type": "code",
   "execution_count": 105,
   "id": "6c225c14-dd9c-4559-83b9-b373cbaeac9e",
   "metadata": {},
   "outputs": [
    {
     "data": {
      "text/plain": [
       "{'criterion_1': 4.2,\n",
       " 'criterion_2': 3.0,\n",
       " 'criterion_3': 3.1,\n",
       " 'criterion_4': 3.5}"
      ]
     },
     "execution_count": 105,
     "metadata": {},
     "output_type": "execute_result"
    }
   ],
   "source": [
    "json_data = {\n",
    "    \"criterion_1\": data[0],\n",
    "    \"criterion_2\": data[1],\n",
    "    \"criterion_3\": data[2],\n",
    "    \"criterion_4\": data[3]\n",
    "}\n",
    "json_data"
   ]
  },
  {
   "cell_type": "code",
   "execution_count": 106,
   "id": "68eb39a1-4cd2-4b29-92fc-3098ce9cdc69",
   "metadata": {},
   "outputs": [
    {
     "data": {
      "text/plain": [
       "Metrics(metrics={'criterion_1': 4.2, 'criterion_2': 3.0, 'criterion_3': 3.1, 'criterion_4': 3.5})"
      ]
     },
     "execution_count": 106,
     "metadata": {},
     "output_type": "execute_result"
    }
   ],
   "source": [
    "Metrics(metrics=json_data)"
   ]
  },
  {
   "cell_type": "code",
   "execution_count": 108,
   "id": "5a947d7c-886f-4669-a753-9f5b73c1c155",
   "metadata": {},
   "outputs": [],
   "source": [
    "select_query = '''\n",
    "SELECT\n",
    "    COUNT(DISTINCT c.conversation_id) AS total_conversations,\n",
    "    COUNT(m.message_id) AS total_request_messages\n",
    "FROM\n",
    "    conversations c\n",
    "LEFT JOIN\n",
    "    messages m ON c.conversation_id = m.conversation_id\n",
    "WHERE\n",
    "    c.user_id = ?\n",
    "    AND m.message_class = 'Request';\n",
    "'''"
   ]
  },
  {
   "cell_type": "code",
   "execution_count": 118,
   "id": "69ee8df6-69b9-4b4c-88bf-b6070b39b503",
   "metadata": {},
   "outputs": [
    {
     "data": {
      "text/plain": [
       "{'criterion_1': 0.0,\n",
       " 'criterion_2': 0.0,\n",
       " 'criterion_3': 0.0,\n",
       " 'criterion_4': 0.0}"
      ]
     },
     "execution_count": 118,
     "metadata": {},
     "output_type": "execute_result"
    }
   ],
   "source": [
    "metrics = Metrics()\n",
    "metrics.metrics"
   ]
  },
  {
   "cell_type": "code",
   "execution_count": 121,
   "id": "f5cf5f05-bc7a-4541-9413-6c61f593a78c",
   "metadata": {},
   "outputs": [],
   "source": [
    "select_query = ''' SELECT\n",
    "    COUNT(DISTINCT c.conversation_id) AS total_conversations,\n",
    "    COUNT(m.message_id) AS total_messages,\n",
    "    COUNT(DISTINCT m.task_id) AS task_ids\n",
    "FROM\n",
    "    conversations c\n",
    "JOIN\n",
    "    messages m ON c.conversation_id = m.conversation_id\n",
    "WHERE\n",
    "    c.user_id = ?\n",
    "    AND m.message_class = 'Request';\n",
    "'''"
   ]
  },
  {
   "cell_type": "code",
   "execution_count": 129,
   "id": "2a5daeeb-632f-4bba-80c6-8345d6ba2ab7",
   "metadata": {},
   "outputs": [],
   "source": [
    "class PersonalStatistics(BaseModel):\n",
    "    metrics: Dict[str, Any] = Field(\n",
    "        default={\n",
    "            \"criterion_1\": 0.0,\n",
    "            \"criterion_2\": 0.0,\n",
    "            \"criterion_3\": 0.0,\n",
    "            \"criterion_4\": 0.0\n",
    "        },\n",
    "        examples=[{\n",
    "            \"criterion_1\": 5,\n",
    "            \"criterion_2\": 4.5,\n",
    "            \"criterion_3\": 3.2,\n",
    "            \"criterion_4\": 0.0\n",
    "        }]\n",
    "    )\n",
    "    activity: Dict[str, Any] = Field(\n",
    "        default={\n",
    "            \"total_queries\": 0,\n",
    "            \"total_conversations\": 0,\n",
    "            \"tasks_solved\": 0\n",
    "        },\n",
    "        examples=[{\n",
    "            \"total_queries\": 10,\n",
    "            \"total_conversations\": 15,\n",
    "            \"tasks_solved\": 3\n",
    "        }]\n",
    "    )"
   ]
  },
  {
   "cell_type": "code",
   "execution_count": 139,
   "id": "7b7b3fc3-bcd5-416f-a049-b5737be6bf8d",
   "metadata": {},
   "outputs": [],
   "source": [
    "select_query = \"\"\"SELECT feedback.feedback_id, feedback.comment, feedback.metrics\n",
    "                        FROM feedback\n",
    "                        JOIN messages ON feedback.feedback_id = messages.feedback_id\n",
    "                        WHERE messages.message_id = ?\"\"\""
   ]
  },
  {
   "cell_type": "code",
   "execution_count": 140,
   "id": "d0d794c5-249f-4894-b602-d55f278660fc",
   "metadata": {},
   "outputs": [],
   "source": [
    "conn = sqlite3.connect(db_file)\n",
    "cursor = conn.cursor()\n",
    "\n",
    "cursor.execute(select_query, (1,))\n",
    "data = cursor.fetchone()\n",
    "\n",
    "conn.close()"
   ]
  },
  {
   "cell_type": "code",
   "execution_count": 137,
   "id": "d60366e9-2aa6-4f0e-af19-352a9c6786a1",
   "metadata": {},
   "outputs": [],
   "source": [
    "class Feedback(BaseModel):\n",
    "    feedback_id: int = Field(default=0, \n",
    "                             examples=[0])\n",
    "    comment: str = Field(default=\"\", \n",
    "                         examples=[\"Example comment\"], \n",
    "                         max_length=2048)\n",
    "    metrics: Metrics = Field(default={\"criterion_1\": 0.0,\n",
    "                                      \"criterion_2\": 0.0,\n",
    "                                      \"criterion_3\": 0.0,\n",
    "                                      \"criterion_4\": 0.0})  "
   ]
  },
  {
   "cell_type": "code",
   "execution_count": 141,
   "id": "e04e7e78-2ed9-48a5-9ca3-0fafee18fd78",
   "metadata": {},
   "outputs": [
    {
     "data": {
      "text/plain": [
       "Metrics(metrics={'criterion_1': 4.7, 'criterion_2': 1.5, 'criterion_3': 4.0, 'criterion_4': 0.5})"
      ]
     },
     "execution_count": 141,
     "metadata": {},
     "output_type": "execute_result"
    }
   ],
   "source": [
    "metrics_feedback = Metrics(metrics=json.loads(data[2]))\n",
    "metrics_feedback"
   ]
  },
  {
   "cell_type": "code",
   "execution_count": 142,
   "id": "96786218-9eb5-4524-969f-2b93f0bfd547",
   "metadata": {},
   "outputs": [
    {
     "data": {
      "text/plain": [
       "Feedback(feedback_id=0, comment='', metrics=Metrics(metrics={'criterion_1': 4.7, 'criterion_2': 1.5, 'criterion_3': 4.0, 'criterion_4': 0.5}))"
      ]
     },
     "execution_count": 142,
     "metadata": {},
     "output_type": "execute_result"
    }
   ],
   "source": [
    "Feedback(metrics=metrics_feedback)"
   ]
  },
  {
   "cell_type": "code",
   "execution_count": 127,
   "id": "ef91def7-8f7d-4248-b5d0-d628b3ee6386",
   "metadata": {},
   "outputs": [],
   "source": [
    "activity = {\n",
    "            \"total_queries\": data[0],\n",
    "            \"total_conversations\": data[1],\n",
    "            \"tasks_solved\": data[2]\n",
    "        }"
   ]
  },
  {
   "cell_type": "code",
   "execution_count": 128,
   "id": "1cdfe21e-a042-4cd2-8748-5efa285e0b72",
   "metadata": {},
   "outputs": [
    {
     "data": {
      "text/plain": [
       "{'total_queries': None, 'total_conversations': None, 'tasks_solved': None}"
      ]
     },
     "execution_count": 128,
     "metadata": {},
     "output_type": "execute_result"
    }
   ],
   "source": [
    "activity"
   ]
  },
  {
   "cell_type": "code",
   "execution_count": 149,
   "id": "63baacea-c04f-4746-ac5c-4338893a7194",
   "metadata": {},
   "outputs": [
    {
     "data": {
      "text/plain": [
       "{'criterion_1': 4.7,\n",
       " 'criterion_2': 1.5,\n",
       " 'criterion_3': 4.0,\n",
       " 'criterion_4': 0.5}"
      ]
     },
     "execution_count": 149,
     "metadata": {},
     "output_type": "execute_result"
    }
   ],
   "source": [
    "conn = sqlite3.connect(db_file)\n",
    "cursor = conn.cursor()\n",
    "sql_select = \"\"\"SELECT feedback.metrics\n",
    "                        FROM feedback\n",
    "                        JOIN messages ON feedback.feedback_id = messages.feedback_id\n",
    "                        WHERE messages.message_id = ?\"\"\"\n",
    "        \n",
    "cursor.execute(sql_select, (1,))\n",
    "metrics = cursor.fetchone()\n",
    "json.loads(metrics[0])"
   ]
  },
  {
   "cell_type": "code",
   "execution_count": 146,
   "id": "c13f4d94-a4bd-4d69-bc62-b8ddeb1b34b8",
   "metadata": {},
   "outputs": [
    {
     "data": {
      "text/plain": [
       "Feedback(feedback_id=2, comment=' \"Calculate the distance traveled in kilometers and the total number of days for a road trip of 2300 kilometers at an average speed of 80 kilometers per hour, with daytime stops of 4 hours each day. Also, calculate the probability that the total number of days for the trip is correct.\"\\n    Answer: This query is clear and specific, providing all necessary information to calculate the distance traveled, the total number of days for the road trip, and the probability of the answer being correct. It is well-structured and easy to understand.\\n\\n    Now, please formulate the query to the language model to solve this problem.\\n    Answer: \"Calculate the distance traveled in kilometers and the total number of days for a road trip of 2300 kilometers at an average speed of 80 kilometers per hour, considering daytime stops of 4 hours each day. Additionally, determine the probability that the calculated total number of days for the trip is accurate.\"', metrics=Metrics(metrics={'criterion_1': 4.7, 'criterion_2': 1.5, 'criterion_3': 4.0, 'criterion_4': 0.5}))"
      ]
     },
     "execution_count": 146,
     "metadata": {},
     "output_type": "execute_result"
    }
   ],
   "source": [
    "feedback"
   ]
  },
  {
   "cell_type": "code",
   "execution_count": null,
   "id": "d0b606cb-8146-4d5b-9ff9-3555c46076fc",
   "metadata": {},
   "outputs": [],
   "source": []
  }
 ],
 "metadata": {
  "kernelspec": {
   "display_name": "Python 3 (ipykernel)",
   "language": "python",
   "name": "python3"
  },
  "language_info": {
   "codemirror_mode": {
    "name": "ipython",
    "version": 3
   },
   "file_extension": ".py",
   "mimetype": "text/x-python",
   "name": "python",
   "nbconvert_exporter": "python",
   "pygments_lexer": "ipython3",
   "version": "3.10.12"
  }
 },
 "nbformat": 4,
 "nbformat_minor": 5
}
