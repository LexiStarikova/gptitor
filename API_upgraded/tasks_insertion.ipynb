{
 "cells": [
  {
   "cell_type": "code",
   "execution_count": 13,
   "id": "2e443c12-5c0b-4270-aa38-f0bf469fd853",
   "metadata": {},
   "outputs": [],
   "source": [
    "import sqlite3\n",
    "db_file = \"./gptitor.db\""
   ]
  },
  {
   "cell_type": "code",
   "execution_count": 14,
   "id": "0f39ec3f-a0cb-49a8-9d17-24006602ec5a",
   "metadata": {},
   "outputs": [
    {
     "data": {
      "text/plain": [
       "[(0, 'task_id', 'INTEGER', 1, None, 1),\n",
       " (1, 'task_category', 'VARCHAR', 0, None, 0),\n",
       " (2, 'task_name', 'VARCHAR', 0, None, 0),\n",
       " (3, 'task_description', 'VARCHAR', 0, None, 0)]"
      ]
     },
     "execution_count": 14,
     "metadata": {},
     "output_type": "execute_result"
    }
   ],
   "source": [
    "table_name = \"tasks\"\n",
    "\n",
    "conn = sqlite3.connect(db_file)\n",
    "cursor = conn.cursor()\n",
    "cursor.execute(f\"PRAGMA table_info({table_name});\")\n",
    "columns = cursor.fetchall()\n",
    "columns"
   ]
  },
  {
   "cell_type": "code",
   "execution_count": 15,
   "id": "1bca309c-00e7-4f9c-b01e-2506743075b3",
   "metadata": {},
   "outputs": [],
   "source": [
    "sql_insert = '''INSERT INTO tasks (task_name, task_category, task_description)\n",
    "                         VALUES (?, ?, ?)'''"
   ]
  },
  {
   "cell_type": "code",
   "execution_count": 16,
   "id": "5538cbae-aee6-4b3b-b8f8-fcecaac878c1",
   "metadata": {},
   "outputs": [],
   "source": [
    "task_name = \"Автопутешествие\"\n",
    "task_category = \"Математика\"\n",
    "task_description = \"Imagine you are on a road trip with your partner. The length of the route is 2300 kilometers. You travel at an average speed of 80 kilometers per hour between destinations. Daytime stops take from two to eight hours. You also make sure to go to sleep at night to avoid the risk of being involved in an accident. You've been on the road for two days and you're curious about how much of the route you've traveled. Your partner is wondering how many days this trip will last in total. Calculate the probability that your answer to your partner's question is correct. Get the answers to these three questions using the correct query to the language model.\"\n",
    "# task_description = '''Представьте, что вы отправились в автопутешествие с напарником. Длина маршрута - 2300 километров. Между пунктами назначения вы движетесь со средней скоростью 80 км/ч. Дневные остановки занимают от двух до восьми часов. Также ночью вы обязательно ложитесь спать, чтобы не подвергать себя риску попасть в аварию. Вы находитесь в пути уже два дня, и вам любопытно, сколько процентов маршрута вы успели преодолеть. А ваш напарник интересуется, сколько всего дней продлится это путешествие. Посчитайте вероятность того, что ваш ответ на вопрос напарника окажется верным. Получите ответы на эти три вопроса с помощью правильного запроса к языковой модели.'''"
   ]
  },
  {
   "cell_type": "code",
   "execution_count": 21,
   "id": "59ed7cc0-5633-48e5-b583-6d70d74bd886",
   "metadata": {},
   "outputs": [],
   "source": [
    "task_name = \"Старинная деревня\"\n",
    "task_category = \"Лирическая задача\"\n",
    "task_description = \"Imagine that you have traveled to the distant past of a parallel universe. You are lucky enough to find yourself in an ancient village where they know your language. The villagers recognize you as a stranger, but you don't want to be conspicuous from the crowd to avoid troubles. You introduce yourself as a traveler named Hongo, and as proof, you decide to tell them about the sunniest weather you have ever experienced in the state of Miuo. To prevent your lie from being discovered, your speech should contain only the simplest and most understandable vocabulary inherent in the colloquial style. And the story should be detailed and interesting, so that the inhabitants are imbued with your story and forget about their suspicions. Get this description with a proper query to the language model.\"\n",
    "# task_description = \"\"\"Вообразите, что вы переместились в далёкое прошлое параллельной вселенной. Вам повезло, и вы очутились в старинной деревне, в которой знают ваш язык. Жители признали в вас незнакомца, но вы не хотите выделяться из толпы во избежание неприятностей. Вы представились путешественником по имени Хонго, а в качестве доказательства решили рассказать о самой солнечной погоде, которую вам довелось застать некотором государстве Миуо. Чтобы вашу ложь не раскрыли, ваша речь должна содержать лишь самую простую и понятную лексику, присущую разговорному стилю. Притом рассказ должен быть детальным и интересным, дабы жители прониклись вашей историей и забыли о своих подозрениях. Получите это описание с помощью правильного запроса к языковой модели.\"\"\""
   ]
  },
  {
   "cell_type": "code",
   "execution_count": 23,
   "id": "999b7033-0d71-48ce-8dbd-9bca3d6232e8",
   "metadata": {},
   "outputs": [],
   "source": [
    "task_name = 'Логические сладости'\n",
    "task_category = 'Головоломка'\n",
    "task_description = \"The boy Kyo is only five years old and is crazy about chocolate cakes and marzipan. His older sister Koyto is already in high school and has a passion for math. One day the girl comes home from school and treats her little brother to a single candy. The next day Koito treats the boy to another candy. Kyo was very happy, but did not even realize the reason for the treats. On the following days, Koyto treated the bral with two, three, and then five candies. The boy was happy, but he began to suspect his sister of something wrong. The next day his sister brought eight candies. Why so many sweets? On what principle does Koyto choose the number of candies? How many sweets will the girl bring the next day? Get the answer to this question by using the correct query to the language model.\"\n",
    "# task_description = '''Мальчику Кё всего пять лет, и он без ума от шоколадных пирожных и марципана. Его старшая сестра Който уже учится в средней школе и увлекается математикой. Однажды девочка возвращается домой с учёбы и угощает младшего брата одну конфетой. На следующий день Който угостила мальчика ещё одной конфетой. Кё очень радовался, но даже не догадывался о поводе для угощений. В последующие дни Който угостила брала двумя, тремя, а затем и пятью конфетами. Мальчик был счастлив, но начал подозревать сестру в чём-то неладном. На следующий день сестра принесла уже 8 конфет. Для чего же столько сладостей? По какому принципу Който выбирает число конфет? Сколько сладостей девочка принесёт на следующий день? Получите ответ на этот вопрос с помощью правильного запроса к языковой модели.'''"
   ]
  },
  {
   "cell_type": "code",
   "execution_count": 24,
   "id": "1d9267ba-58c8-46ca-b129-998f76d43b53",
   "metadata": {},
   "outputs": [
    {
     "data": {
      "text/plain": [
       "[(\"Imagine you are on a road trip with your partner. The length of the route is 2300 kilometers. You travel at an average speed of 80 kilometers per hour between destinations. Daytime stops take from two to eight hours. You also make sure to go to sleep at night to avoid the risk of being involved in an accident. You've been on the road for two days and you're curious about how much of the route you've traveled. Your partner is wondering how many days this trip will last in total. Calculate the probability that your answer to your partner's question is correct. Get the answers to these three questions using the correct query to the language model.\",),\n",
       " (\"Imagine that you have traveled to the distant past of a parallel universe. You are lucky enough to find yourself in an ancient village where they know your language. The villagers recognize you as a stranger, but you don't want to be conspicuous from the crowd to avoid troubles. You introduce yourself as a traveler named Hongo, and as proof, you decide to tell them about the sunniest weather you have ever experienced in the state of Miuo. To prevent your lie from being discovered, your speech should contain only the simplest and most understandable vocabulary inherent in the colloquial style. And the story should be detailed and interesting, so that the inhabitants are imbued with your story and forget about their suspicions. Get this description with a proper query to the language model.\",),\n",
       " ('The boy Kyo is only five years old and is crazy about chocolate cakes and marzipan. His older sister Koyto is already in high school and has a passion for math. One day the girl comes home from school and treats her little brother to a single candy. The next day Koito treats the boy to another candy. Kyo was very happy, but did not even realize the reason for the treats. On the following days, Koyto treated the bral with two, three, and then five candies. The boy was happy, but he began to suspect his sister of something wrong. The next day his sister brought eight candies. Why so many sweets? On what principle does Koyto choose the number of candies? How many sweets will the girl bring the next day? Get the answer to this question by using the correct query to the language model.',)]"
      ]
     },
     "execution_count": 24,
     "metadata": {},
     "output_type": "execute_result"
    }
   ],
   "source": [
    "conn = sqlite3.connect(db_file)\n",
    "cursor = conn.cursor()\n",
    "cursor.execute(sql_insert, (task_name, task_category, task_description))\n",
    "conn.commit() # Save changes\n",
    "cursor.execute(\"SELECT task_description FROM tasks\")\n",
    "tasks = cursor.fetchall()\n",
    "conn.close()\n",
    "tasks"
   ]
  },
  {
   "cell_type": "code",
   "execution_count": null,
   "id": "c2b75a25-7809-4496-88de-f7d4ff1f0457",
   "metadata": {},
   "outputs": [],
   "source": []
  },
  {
   "cell_type": "code",
   "execution_count": null,
   "id": "d7bbf345-c990-42bb-8920-dc789e9059be",
   "metadata": {},
   "outputs": [],
   "source": []
  },
  {
   "cell_type": "code",
   "execution_count": null,
   "id": "50221f9a-171c-4a4e-b082-c10a8ab3276e",
   "metadata": {},
   "outputs": [],
   "source": []
  }
 ],
 "metadata": {
  "kernelspec": {
   "display_name": "Python 3 (ipykernel)",
   "language": "python",
   "name": "python3"
  },
  "language_info": {
   "codemirror_mode": {
    "name": "ipython",
    "version": 3
   },
   "file_extension": ".py",
   "mimetype": "text/x-python",
   "name": "python",
   "nbconvert_exporter": "python",
   "pygments_lexer": "ipython3",
   "version": "3.11.7"
  }
 },
 "nbformat": 4,
 "nbformat_minor": 5
}
